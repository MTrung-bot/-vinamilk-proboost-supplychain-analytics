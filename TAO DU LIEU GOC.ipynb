{
 "cells": [
  {
   "cell_type": "code",
   "execution_count": 14,
   "id": "34788244",
   "metadata": {},
   "outputs": [],
   "source": [
    "# Import lại toàn bộ\n",
    "import pandas as pd\n",
    "import numpy as np\n",
    "import random\n",
    "from faker import Faker\n",
    "import hashlib"
   ]
  },
  {
   "cell_type": "code",
   "execution_count": 15,
   "id": "6c14d90e",
   "metadata": {},
   "outputs": [],
   "source": [
    "fake = Faker('en_US')\n",
    "np.random.seed(42)\n",
    "random.seed(42)"
   ]
  },
  {
   "cell_type": "code",
   "execution_count": null,
   "id": "99e95362",
   "metadata": {},
   "outputs": [],
   "source": [
    "provinces = [\n",
    "    'Hà Nội', 'Hồ Chí Minh', 'Hải Phòng', 'Đà Nẵng', 'Cần Thơ',\n",
    "    'An Giang', 'Bà Rịa - Vũng Tàu', 'Bắc Giang', 'Bắc Kạn', 'Bạc Liêu',\n",
    "    'Bắc Ninh', 'Bến Tre', 'Bình Định', 'Bình Dương', 'Bình Phước',\n",
    "    'Bình Thuận', 'Cà Mau', 'Cao Bằng', 'Đắk Lắk', 'Đắk Nông',\n",
    "    'Điện Biên', 'Đồng Nai', 'Đồng Tháp', 'Gia Lai', 'Hà Giang',\n",
    "    'Hà Nam', 'Hà Tĩnh', 'Hải Dương', 'Hậu Giang', 'Hòa Bình',\n",
    "    'Hưng Yên', 'Khánh Hòa', 'Kiên Giang', 'Kon Tum', 'Lai Châu',\n",
    "    'Lâm Đồng', 'Lạng Sơn', 'Lào Cai', 'Long An', 'Nam Định',\n",
    "    'Nghệ An', 'Ninh Bình', 'Ninh Thuận', 'Phú Thọ', 'Phú Yên',\n",
    "    'Quảng Bình', 'Quảng Nam', 'Quảng Ngãi', 'Quảng Ninh', 'Quảng Trị',\n",
    "    'Sóc Trăng', 'Sơn La', 'Tây Ninh', 'Thái Bình', 'Thái Nguyên',\n",
    "    'Thanh Hóa', 'Thừa Thiên Huế', 'Tiền Giang', 'Trà Vinh', 'Tuyên Quang',\n",
    "    'Vĩnh Long', 'Vĩnh Phúc', 'Yên Bái'\n",
    "]\n",
    "\n",
    "# Channels\n",
    "channels = ['GT', 'MT', 'Online']\n",
    "\n",
    "# SKU & Tỷ trọng\n",
    "skus = {\n",
    "    'Pro-Boost 110ml': {'price': 7200, 'cost': 5000, 'weight': 5},\n",
    "    'Pro-Boost 180ml': {'price': 10200, 'cost': 7000, 'weight': 5},\n",
    "    'Pro-Boost 220ml': {'price': 12000, 'cost': 8500, 'weight': 3},\n",
    "    'Pro-Boost Kids 110ml': {'price': 6900, 'cost': 4800, 'weight': 1},\n",
    "    'Pro-Boost Less Sugar 180ml': {'price': 9800, 'cost': 7200, 'weight': 1},\n",
    "}\n",
    "# Tạo viết tắt tỉnh\n",
    "def abbreviate_province(province):\n",
    "    return ''.join(word[0].upper() for word in province.split() if word[0].isalpha())"
   ]
  },
  {
   "cell_type": "code",
   "execution_count": 17,
   "id": "1a56a9ac",
   "metadata": {},
   "outputs": [],
   "source": [
    "# Thời gian\n",
    "start_date = pd.to_datetime(\"2025-01-01\")\n",
    "end_date = pd.to_datetime(\"2025-06-30\")\n",
    "dates = pd.date_range(start=start_date, end=end_date)"
   ]
  },
  {
   "cell_type": "code",
   "execution_count": 20,
   "id": "2472df93",
   "metadata": {},
   "outputs": [],
   "source": [
    "# Sinh danh sách khách hàng cố định\n",
    "customer_ids = [f\"CUST{str(i).zfill(5)}\" for i in range(random.randint(300, 2000))]"
   ]
  },
  {
   "cell_type": "code",
   "execution_count": 21,
   "id": "d349419f",
   "metadata": {},
   "outputs": [],
   "source": [
    "# Sinh dữ liệu\n",
    "rows = []\n",
    "\n",
    "for _ in range(70000):\n",
    "    order_date = random.choice(dates)\n",
    "    province = random.choices(provinces, weights=[3 if p in ['Hà Nội', 'Hồ Chí Minh'] else 1 for p in provinces])[0]\n",
    "    channel = random.choice(channels)\n",
    "\n",
    "    sku_names = list(skus.keys())\n",
    "    weights = [skus[sku]['weight'] for sku in sku_names]\n",
    "    sku = random.choices(sku_names, weights=weights, k=1)[0]\n",
    "\n",
    "    unit_price = skus[sku]['price']\n",
    "    cost = skus[sku]['cost']\n",
    "    qty = np.random.randint(50, 500)\n",
    "\n",
    "    revenue = qty * unit_price\n",
    "    cogs = qty * cost\n",
    "    profit = revenue - cogs\n",
    "\n",
    "    lead_time = np.random.randint(1, 6)\n",
    "    shipping_date = order_date + pd.Timedelta(days=lead_time)\n",
    "    otif = 1 if lead_time <= 3 else 0\n",
    "\n",
    "    stock_before = np.random.randint(qty + 100, qty + 1000)\n",
    "    stock_after = stock_before - qty\n",
    "    returned = int(qty * np.random.choice([0, 0.01, 0.02, 0.03], p=[0.85, 0.1, 0.04, 0.01]))\n",
    "    promo_flag = random.choice([0, 1]) if order_date.month in [3, 4] else 0\n",
    "\n",
    "    # Tạo Order_ID có tính khách hàng lặp lại\n",
    "    customer_id = random.choice(customer_ids)\n",
    "    prov_abbr = abbreviate_province(province)\n",
    "    hash_id = hashlib.md5((str(order_date) + sku).encode()).hexdigest()[:5].upper()\n",
    "    order_id = f\"{prov_abbr}-{customer_id}-{hash_id}\"\n",
    "\n",
    "    rows.append([\n",
    "        order_id, order_date.date(), province, channel, sku,\n",
    "        unit_price, qty, revenue, cost, cogs, profit, lead_time,\n",
    "        shipping_date.date(), otif, stock_before, stock_after, returned, promo_flag\n",
    "    ])\n",
    "\n",
    "# Tạo DataFrame\n",
    "columns = [\n",
    "    \"Order_ID\", \"Order_Date\", \"Province\", \"Channel\", \"SKU\",\n",
    "    \"Unit_Price\", \"Quantity\", \"Revenue\", \"Cost_Per_Unit\", \"COGS\", \"Gross_Profit\",\n",
    "    \"Lead_Time_Days\", \"Shipping_Date\", \"OTIF_Flag\",\n",
    "    \"Stock_Before\", \"Stock_After\", \"Returned_Units\", \"Promotion_Flag\"\n",
    "]\n",
    "df = pd.DataFrame(rows, columns=columns)"
   ]
  },
  {
   "cell_type": "code",
   "execution_count": 22,
   "id": "99c9a615",
   "metadata": {},
   "outputs": [
    {
     "name": "stdout",
     "output_type": "stream",
     "text": [
      "✅ File đã tạo: D:/Dự Án mới/vinamilk_proboost_6months_final.csv\n"
     ]
    }
   ],
   "source": [
    "# Lưu file\n",
    "output_path = \"D:/Dự Án mới/vinamilk_proboost_6months_final.csv\"\n",
    "df.to_csv(output_path, index=False, encoding='utf-8-sig')\n",
    "\n",
    "print(\"✅ File đã tạo:\", output_path)"
   ]
  }
 ],
 "metadata": {
  "kernelspec": {
   "display_name": "Python 3",
   "language": "python",
   "name": "python3"
  },
  "language_info": {
   "codemirror_mode": {
    "name": "ipython",
    "version": 3
   },
   "file_extension": ".py",
   "mimetype": "text/x-python",
   "name": "python",
   "nbconvert_exporter": "python",
   "pygments_lexer": "ipython3",
   "version": "3.13.5"
  }
 },
 "nbformat": 4,
 "nbformat_minor": 5
}
