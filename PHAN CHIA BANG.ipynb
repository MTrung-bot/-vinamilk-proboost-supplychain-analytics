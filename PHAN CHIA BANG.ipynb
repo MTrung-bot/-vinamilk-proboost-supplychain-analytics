{
 "cells": [
  {
   "cell_type": "code",
   "execution_count": 7,
   "id": "509eb967",
   "metadata": {},
   "outputs": [],
   "source": [
    "import pandas as pd"
   ]
  },
  {
   "cell_type": "code",
   "execution_count": 8,
   "id": "c08142de",
   "metadata": {},
   "outputs": [],
   "source": [
    "# Đọc file gốc\n",
    "df = pd.read_csv(\"D:\\\\Dự Án mới\\\\vinamilk_proboost_6months_final.csv\")\n"
   ]
  },
  {
   "cell_type": "code",
   "execution_count": null,
   "id": "c957aa04",
   "metadata": {},
   "outputs": [],
   "source": [
    "# Tách Customer_ID từ Order_ID\n",
    "df[\"Customer_ID\"] = df[\"Order_ID\"].apply(lambda x: x.split(\"-\")[1])\n",
    "\n",
    "# dim_customers\n",
    "dim_customers = df[[\"Customer_ID\"]].drop_duplicates().reset_index(drop=True)\n",
    "dim_customers.to_csv(\"dim_customers.csv\", index=False, encoding=\"utf-8-sig\")\n",
    "\n",
    "# dim_provinces\n",
    "dim_provinces = df[[\"Province\"]].drop_duplicates().reset_index(drop=True)\n",
    "dim_provinces[\"Province_ID\"] = dim_provinces.index + 1\n",
    "dim_provinces.to_csv(\"dim_provinces.csv\", index=False, encoding=\"utf-8-sig\")\n",
    "\n",
    "# Merge Province_ID vào bảng chính\n",
    "df = df.merge(dim_provinces, on=\"Province\", how=\"left\")\n",
    "\n",
    "# dim_channels\n",
    "dim_channels = df[[\"Channel\"]].drop_duplicates().reset_index(drop=True)\n",
    "dim_channels[\"Channel_ID\"] = dim_channels.index + 1\n",
    "dim_channels.to_csv(\"dim_channels.csv\", index=False, encoding=\"utf-8-sig\")\n",
    "df = df.merge(dim_channels, on=\"Channel\", how=\"left\")\n",
    "\n",
    "# dim_skus\n",
    "dim_skus = df[[\"SKU\", \"Unit_Price\", \"Cost_Per_Unit\"]].drop_duplicates().reset_index(drop=True)\n",
    "dim_skus[\"SKU_ID\"] = dim_skus.index + 1\n",
    "dim_skus.to_csv(\"dim_skus.csv\", index=False, encoding=\"utf-8-sig\")\n",
    "df = df.merge(dim_skus, on=[\"SKU\", \"Unit_Price\", \"Cost_Per_Unit\"], how=\"left\")\n",
    "# Tách bảng tồn kho\n",
    "fact_inventory = df[[\"Order_ID\", \"SKU_ID\", \"Stock_Before\", \"Stock_After\"]]\n",
    "fact_inventory.to_csv(\"fact_inventory.csv\", index=False, encoding=\"utf-8-sig\")\n",
    "fact_sales = df[[\n",
    "    \"Order_ID\", \"Order_Date\", \"Customer_ID\", \"Province_ID\", \"Channel_ID\", \"SKU_ID\",\n",
    "    \"Quantity\", \"Lead_Time_Days\", \"Shipping_Date\",\n",
    "    \"OTIF_Flag\", \"Returned_Units\", \"Promotion_Flag\"\n",
    "]]\n",
    "\n",
    "# Ghi lại bảng chính để dùng tiếp\n",
    "df.to_csv(\"fact_sales_full.csv\", index=False, encoding=\"utf-8-sig\")"
   ]
  }
 ],
 "metadata": {
  "kernelspec": {
   "display_name": "Python 3",
   "language": "python",
   "name": "python3"
  },
  "language_info": {
   "codemirror_mode": {
    "name": "ipython",
    "version": 3
   },
   "file_extension": ".py",
   "mimetype": "text/x-python",
   "name": "python",
   "nbconvert_exporter": "python",
   "pygments_lexer": "ipython3",
   "version": "3.13.5"
  }
 },
 "nbformat": 4,
 "nbformat_minor": 5
}
